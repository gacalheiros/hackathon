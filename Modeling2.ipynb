{
 "cells": [
  {
   "cell_type": "code",
   "execution_count": 25,
   "metadata": {},
   "outputs": [],
   "source": [
    "import pandas as pd\n",
    "import matplotlib.pyplot as plt\n",
    "import numpy as np\n",
    "import sys\n",
    "import random\n",
    "import matplotlib\n",
    "from pandas import DataFrame, read_csv\n",
    "\n",
    "%matplotlib inline "
   ]
  },
  {
   "cell_type": "markdown",
   "metadata": {},
   "source": [
    "### Load training data from files"
   ]
  },
  {
   "cell_type": "code",
   "execution_count": 26,
   "metadata": {},
   "outputs": [],
   "source": [
    "X_good = np.load(\"X_good_v1.npy\")\n",
    "Y_good = np.load(\"Y_good_v1.npy\")"
   ]
  },
  {
   "cell_type": "code",
   "execution_count": 27,
   "metadata": {},
   "outputs": [],
   "source": [
    "X_bad = np.load(\"X_bad_v1.npy\")\n",
    "Y_bad = np.load(\"Y_bad_v1.npy\")"
   ]
  },
  {
   "cell_type": "code",
   "execution_count": 28,
   "metadata": {},
   "outputs": [],
   "source": [
    "x_test_v2 = np.load(\"X_good_v2.npy\")\n",
    "x_test_v2_bad = np.load(\"X_bad_v2.npy\")"
   ]
  },
  {
   "cell_type": "code",
   "execution_count": 29,
   "metadata": {},
   "outputs": [],
   "source": [
    "# For Y label, set zeros for all good samples, and ones for all bad samples.\n",
    "X = np.concatenate([X_good, x_test_v2, X_bad, x_test_v2_bad], axis=0)\n",
    "y = np.concatenate([np.zeros(len(X_good)+len(x_test_v2)), np.ones(len(X_bad)+len(x_test_v2_bad))], axis=0)"
   ]
  },
  {
   "cell_type": "code",
   "execution_count": 30,
   "metadata": {},
   "outputs": [
    {
     "data": {
      "text/plain": [
       "((714, 17, 7), (714,))"
      ]
     },
     "execution_count": 30,
     "metadata": {},
     "output_type": "execute_result"
    }
   ],
   "source": [
    "X.shape, y.shape"
   ]
  },
  {
   "cell_type": "code",
   "execution_count": 31,
   "metadata": {},
   "outputs": [
    {
     "data": {
      "text/plain": [
       "(714, 7, 17)"
      ]
     },
     "execution_count": 31,
     "metadata": {},
     "output_type": "execute_result"
    }
   ],
   "source": [
    "X = np.rollaxis(X, -1, 1)\n",
    "X.shape"
   ]
  },
  {
   "cell_type": "markdown",
   "metadata": {},
   "source": [
    "### Use Random Forest"
   ]
  },
  {
   "cell_type": "code",
   "execution_count": 32,
   "metadata": {},
   "outputs": [],
   "source": [
    "X1 = np.zeros([714*7,17]).astype(np.float32)\n",
    "y1 = np.zeros([714*7,]).astype(np.float32)\n",
    "\n",
    "for i in range(714):\n",
    "    for j in range(7):\n",
    "        X1[i*7+j] = X[i,j,:]\n",
    "        y1[i*7+j] = y[i]"
   ]
  },
  {
   "cell_type": "code",
   "execution_count": 33,
   "metadata": {},
   "outputs": [
    {
     "data": {
      "text/plain": [
       "((4998, 17), (4998,))"
      ]
     },
     "execution_count": 33,
     "metadata": {},
     "output_type": "execute_result"
    }
   ],
   "source": [
    "X1.shape, y1.shape"
   ]
  },
  {
   "cell_type": "code",
   "execution_count": 34,
   "metadata": {},
   "outputs": [
    {
     "name": "stdout",
     "output_type": "stream",
     "text": [
      "shape for feature matrix X_train is: (3998, 17)\n",
      "shape for label   column y_train is: (3998,)\n",
      "shape for feature matrix X_test is : (1000, 17)\n",
      "shape for label   column y_test is : (1000,)\n"
     ]
    }
   ],
   "source": [
    "x_train, x_test, y_train, y_test = train_test_split(X1, y1, test_size=0.2, shuffle=True)\n",
    "\n",
    "print(f'shape for feature matrix X_train is: {x_train.shape}')\n",
    "print(f'shape for label   column y_train is: {y_train.shape}')\n",
    "print(f'shape for feature matrix X_test is : {x_test.shape}')\n",
    "print(f'shape for label   column y_test is : {y_test.shape}')"
   ]
  },
  {
   "cell_type": "code",
   "execution_count": 35,
   "metadata": {},
   "outputs": [],
   "source": [
    "shuffle_indices = np.random.permutation(np.arange(len(y_train)))\n",
    "x_shuffled = x_train[shuffle_indices]\n",
    "y_shuffled = y_train[shuffle_indices]"
   ]
  },
  {
   "cell_type": "code",
   "execution_count": 36,
   "metadata": {},
   "outputs": [
    {
     "name": "stdout",
     "output_type": "stream",
     "text": [
      "Accuracy of model: 0.999\n"
     ]
    }
   ],
   "source": [
    "from sklearn.ensemble import RandomForestClassifier\n",
    "from sklearn.metrics import accuracy_score\n",
    "\n",
    "# init the classifier\n",
    "rf_clf = RandomForestClassifier(random_state=2018)\n",
    "\n",
    "# fit data to the model\n",
    "rf_clf.fit(x_shuffled, y_shuffled)\n",
    "\n",
    "# predict result\n",
    "y_pred = rf_clf.predict(x_test)\n",
    "\n",
    "print(f'Accuracy of model: {accuracy_score(y_test, y_pred)}')\n",
    "# of course accuracy isnt a good metrics for judging this model\n",
    "# come up with a good one when you build your model"
   ]
  },
  {
   "cell_type": "markdown",
   "metadata": {},
   "source": [
    "#### 1. Test on good examples"
   ]
  },
  {
   "cell_type": "code",
   "execution_count": 37,
   "metadata": {},
   "outputs": [
    {
     "data": {
      "text/plain": [
       "((398, 17, 7), (398,))"
      ]
     },
     "execution_count": 37,
     "metadata": {},
     "output_type": "execute_result"
    }
   ],
   "source": [
    "x_test_v2 = np.load(\"X_good_v2.npy\")\n",
    "y_test_v2 = np.zeros(len(x_test_v2))\n",
    "x_test_v2.shape, y_test_v2.shape"
   ]
  },
  {
   "cell_type": "code",
   "execution_count": 38,
   "metadata": {},
   "outputs": [
    {
     "data": {
      "text/plain": [
       "(398, 7, 17)"
      ]
     },
     "execution_count": 38,
     "metadata": {},
     "output_type": "execute_result"
    }
   ],
   "source": [
    "x_test_v2 = np.rollaxis(x_test_v2, -1, 1)\n",
    "x_test_v2.shape"
   ]
  },
  {
   "cell_type": "code",
   "execution_count": 39,
   "metadata": {},
   "outputs": [],
   "source": [
    "X2 = np.zeros([398*7,17]).astype(np.float32)\n",
    "y2 = np.zeros([398*7,]).astype(np.float32)\n",
    "\n",
    "for i in range(398):\n",
    "    for j in range(7):\n",
    "        X2[i*7+j] = x_test_v2[i,j,:]\n",
    "        y2[i*7+j] = y_test_v2[i]"
   ]
  },
  {
   "cell_type": "code",
   "execution_count": 40,
   "metadata": {},
   "outputs": [
    {
     "data": {
      "text/plain": [
       "((2786, 17), (2786,))"
      ]
     },
     "execution_count": 40,
     "metadata": {},
     "output_type": "execute_result"
    }
   ],
   "source": [
    "X2.shape, y2.shape"
   ]
  },
  {
   "cell_type": "code",
   "execution_count": 41,
   "metadata": {},
   "outputs": [
    {
     "name": "stdout",
     "output_type": "stream",
     "text": [
      "Accuracy of model: 1.0\n"
     ]
    }
   ],
   "source": [
    "# predict result\n",
    "y2_pred = rf_clf.predict(X2)\n",
    "\n",
    "print(f'Accuracy of model: {accuracy_score(y2, y2_pred)}')"
   ]
  },
  {
   "cell_type": "markdown",
   "metadata": {},
   "source": [
    "#### 2. Test on failure examples"
   ]
  },
  {
   "cell_type": "code",
   "execution_count": 42,
   "metadata": {},
   "outputs": [],
   "source": [
    "x_test_v2_bad = np.load(\"X_bad_v2.npy\")\n",
    "y_test_v2_bad = np.ones(len(x_test_v2_bad))"
   ]
  },
  {
   "cell_type": "code",
   "execution_count": 43,
   "metadata": {},
   "outputs": [
    {
     "data": {
      "text/plain": [
       "((61, 17, 7), (61,))"
      ]
     },
     "execution_count": 43,
     "metadata": {},
     "output_type": "execute_result"
    }
   ],
   "source": [
    "x_test_v2_bad.shape, y_test_v2_bad.shape"
   ]
  },
  {
   "cell_type": "code",
   "execution_count": 44,
   "metadata": {},
   "outputs": [
    {
     "data": {
      "text/plain": [
       "(61, 7, 17)"
      ]
     },
     "execution_count": 44,
     "metadata": {},
     "output_type": "execute_result"
    }
   ],
   "source": [
    "x_test_v2_bad = np.rollaxis(x_test_v2_bad, -1, 1)\n",
    "x_test_v2_bad.shape"
   ]
  },
  {
   "cell_type": "code",
   "execution_count": 45,
   "metadata": {},
   "outputs": [],
   "source": [
    "X3 = np.zeros([61*7,17]).astype(np.float32)\n",
    "y3 = np.zeros([61*7,]).astype(np.float32)\n",
    "\n",
    "for i in range(61):\n",
    "    for j in range(7):\n",
    "        X3[i*7+j] = x_test_v2_bad[i,j,:]\n",
    "        y3[i*7+j] = y_test_v2_bad[i]"
   ]
  },
  {
   "cell_type": "code",
   "execution_count": 46,
   "metadata": {},
   "outputs": [
    {
     "data": {
      "text/plain": [
       "((427, 17), (427,))"
      ]
     },
     "execution_count": 46,
     "metadata": {},
     "output_type": "execute_result"
    }
   ],
   "source": [
    "X3.shape, y3.shape"
   ]
  },
  {
   "cell_type": "code",
   "execution_count": 47,
   "metadata": {
    "scrolled": false
   },
   "outputs": [
    {
     "name": "stdout",
     "output_type": "stream",
     "text": [
      "Accuracy of model: 0.9976580796252927\n"
     ]
    }
   ],
   "source": [
    "# predict result\n",
    "y3_pred = rf_clf.predict(X3)\n",
    "\n",
    "print(f'Accuracy of model: {accuracy_score(y3, y3_pred)}')"
   ]
  },
  {
   "cell_type": "code",
   "execution_count": null,
   "metadata": {},
   "outputs": [],
   "source": []
  },
  {
   "cell_type": "code",
   "execution_count": null,
   "metadata": {},
   "outputs": [],
   "source": []
  }
 ],
 "metadata": {
  "kernelspec": {
   "display_name": "Python 3",
   "language": "python",
   "name": "python3"
  },
  "language_info": {
   "codemirror_mode": {
    "name": "ipython",
    "version": 3
   },
   "file_extension": ".py",
   "mimetype": "text/x-python",
   "name": "python",
   "nbconvert_exporter": "python",
   "pygments_lexer": "ipython3",
   "version": "3.6.4"
  }
 },
 "nbformat": 4,
 "nbformat_minor": 2
}
