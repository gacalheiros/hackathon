{
 "cells": [
  {
   "cell_type": "code",
   "execution_count": 8,
   "metadata": {},
   "outputs": [],
   "source": [
    "# authors: Vladimir Osin, Ekhtiar Syed \n",
    "\n",
    "# import libs\n",
    "import pandas  as pd\n",
    "import numpy   as np\n",
    "import seaborn as sns\n",
    "import matplotlib.pyplot as plt \n",
    "%matplotlib inline "
   ]
  },
  {
   "cell_type": "markdown",
   "metadata": {},
   "source": [
    "### Data Load/First Look "
   ]
  },
  {
   "cell_type": "code",
   "execution_count": 9,
   "metadata": {},
   "outputs": [
    {
     "name": "stderr",
     "output_type": "stream",
     "text": [
      "C:\\Users\\20176827\\AppData\\Local\\Continuum\\anaconda3\\lib\\site-packages\\IPython\\core\\interactiveshell.py:2785: DtypeWarning: Columns (22,23,25,26,28) have mixed types. Specify dtype option on import or set low_memory=False.\n",
      "  interactivity=interactivity, compiler=compiler, result=result)\n"
     ]
    }
   ],
   "source": [
    "# read data\n",
    "data = pd.read_csv('C:/Users/20176827/Documents/Datasets/smartData.csv', low_memory=False)\n",
    "\n",
    "# clean data\n",
    "data = data.drop(['Unnamed: 0'], axis=1)\n",
    "\n",
    "# trasnform date from string to datetime\n",
    "data['date'] = pd.to_datetime(data['date'])"
   ]
  },
  {
   "cell_type": "code",
   "execution_count": 10,
   "metadata": {},
   "outputs": [],
   "source": [
    "# example: if you want to save converted data frame \n",
    "# data.to_csv('input_data/smart_data_updated.csv', index=False)"
   ]
  },
  {
   "cell_type": "code",
   "execution_count": 63,
   "metadata": {},
   "outputs": [
    {
     "data": {
      "text/plain": [
       "Index(['Serial', 'date', 'exp', 'host', 'smart1', 'smart2', 'smart3', 'smart4',\n",
       "       'smart5', 'smart7', 'smart8', 'smart9', 'smart10', 'smart12',\n",
       "       'smart192', 'smart193', 'smart194', 'smart196', 'smart197', 'smart198',\n",
       "       'smart199', 'Version', 'Device', 'Port', 'Model', 'Smart', 'Size',\n",
       "       'Vendor'],\n",
       "      dtype='object')"
      ]
     },
     "execution_count": 63,
     "metadata": {},
     "output_type": "execute_result"
    }
   ],
   "source": [
    "data.columns"
   ]
  },
  {
   "cell_type": "code",
   "execution_count": 60,
   "metadata": {},
   "outputs": [
    {
     "data": {
      "text/html": [
       "<div>\n",
       "<style scoped>\n",
       "    .dataframe tbody tr th:only-of-type {\n",
       "        vertical-align: middle;\n",
       "    }\n",
       "\n",
       "    .dataframe tbody tr th {\n",
       "        vertical-align: top;\n",
       "    }\n",
       "\n",
       "    .dataframe thead th {\n",
       "        text-align: right;\n",
       "    }\n",
       "</style>\n",
       "<table border=\"1\" class=\"dataframe\">\n",
       "  <thead>\n",
       "    <tr style=\"text-align: right;\">\n",
       "      <th></th>\n",
       "      <th>Serial</th>\n",
       "      <th>date</th>\n",
       "      <th>exp</th>\n",
       "      <th>host</th>\n",
       "      <th>smart1</th>\n",
       "      <th>smart2</th>\n",
       "      <th>smart3</th>\n",
       "      <th>smart4</th>\n",
       "      <th>smart5</th>\n",
       "      <th>smart7</th>\n",
       "      <th>...</th>\n",
       "      <th>smart197</th>\n",
       "      <th>smart198</th>\n",
       "      <th>smart199</th>\n",
       "      <th>Version</th>\n",
       "      <th>Device</th>\n",
       "      <th>Port</th>\n",
       "      <th>Model</th>\n",
       "      <th>Smart</th>\n",
       "      <th>Size</th>\n",
       "      <th>Vendor</th>\n",
       "    </tr>\n",
       "  </thead>\n",
       "  <tbody>\n",
       "    <tr>\n",
       "      <th>0</th>\n",
       "      <td>174DK3RAFTMB</td>\n",
       "      <td>2017-12-17 01:00:00</td>\n",
       "      <td>cms</td>\n",
       "      <td>P06636710Y61826</td>\n",
       "      <td>0.0</td>\n",
       "      <td>0.0</td>\n",
       "      <td>10392.0</td>\n",
       "      <td>3.0</td>\n",
       "      <td>0.0</td>\n",
       "      <td>0.0</td>\n",
       "      <td>...</td>\n",
       "      <td>0.0</td>\n",
       "      <td>0.0</td>\n",
       "      <td>0.0</td>\n",
       "      <td>NaN</td>\n",
       "      <td>NaN</td>\n",
       "      <td>NaN</td>\n",
       "      <td>NaN</td>\n",
       "      <td>NaN</td>\n",
       "      <td>NaN</td>\n",
       "      <td>NaN</td>\n",
       "    </tr>\n",
       "    <tr>\n",
       "      <th>1</th>\n",
       "      <td>174DK3RAFTMB</td>\n",
       "      <td>2017-12-18 01:00:00</td>\n",
       "      <td>cms</td>\n",
       "      <td>P06636710Y61826</td>\n",
       "      <td>0.0</td>\n",
       "      <td>0.0</td>\n",
       "      <td>10392.0</td>\n",
       "      <td>3.0</td>\n",
       "      <td>0.0</td>\n",
       "      <td>0.0</td>\n",
       "      <td>...</td>\n",
       "      <td>0.0</td>\n",
       "      <td>0.0</td>\n",
       "      <td>0.0</td>\n",
       "      <td>NaN</td>\n",
       "      <td>NaN</td>\n",
       "      <td>NaN</td>\n",
       "      <td>NaN</td>\n",
       "      <td>NaN</td>\n",
       "      <td>NaN</td>\n",
       "      <td>NaN</td>\n",
       "    </tr>\n",
       "    <tr>\n",
       "      <th>2</th>\n",
       "      <td>174DK3RAFTMB</td>\n",
       "      <td>2017-12-19 01:00:00</td>\n",
       "      <td>cms</td>\n",
       "      <td>P06636710Y61826</td>\n",
       "      <td>0.0</td>\n",
       "      <td>0.0</td>\n",
       "      <td>10392.0</td>\n",
       "      <td>3.0</td>\n",
       "      <td>0.0</td>\n",
       "      <td>0.0</td>\n",
       "      <td>...</td>\n",
       "      <td>0.0</td>\n",
       "      <td>0.0</td>\n",
       "      <td>0.0</td>\n",
       "      <td>NaN</td>\n",
       "      <td>NaN</td>\n",
       "      <td>NaN</td>\n",
       "      <td>NaN</td>\n",
       "      <td>NaN</td>\n",
       "      <td>NaN</td>\n",
       "      <td>NaN</td>\n",
       "    </tr>\n",
       "    <tr>\n",
       "      <th>3</th>\n",
       "      <td>174DK3RAFTMB</td>\n",
       "      <td>2017-12-20 01:00:00</td>\n",
       "      <td>cms</td>\n",
       "      <td>P06636710Y61826</td>\n",
       "      <td>0.0</td>\n",
       "      <td>0.0</td>\n",
       "      <td>10392.0</td>\n",
       "      <td>3.0</td>\n",
       "      <td>0.0</td>\n",
       "      <td>0.0</td>\n",
       "      <td>...</td>\n",
       "      <td>0.0</td>\n",
       "      <td>0.0</td>\n",
       "      <td>0.0</td>\n",
       "      <td>NaN</td>\n",
       "      <td>NaN</td>\n",
       "      <td>NaN</td>\n",
       "      <td>NaN</td>\n",
       "      <td>NaN</td>\n",
       "      <td>NaN</td>\n",
       "      <td>NaN</td>\n",
       "    </tr>\n",
       "    <tr>\n",
       "      <th>4</th>\n",
       "      <td>174DK3RAFTMB</td>\n",
       "      <td>2017-12-21 01:00:00</td>\n",
       "      <td>cms</td>\n",
       "      <td>P06636710Y61826</td>\n",
       "      <td>0.0</td>\n",
       "      <td>0.0</td>\n",
       "      <td>10392.0</td>\n",
       "      <td>3.0</td>\n",
       "      <td>0.0</td>\n",
       "      <td>0.0</td>\n",
       "      <td>...</td>\n",
       "      <td>0.0</td>\n",
       "      <td>0.0</td>\n",
       "      <td>0.0</td>\n",
       "      <td>NaN</td>\n",
       "      <td>NaN</td>\n",
       "      <td>NaN</td>\n",
       "      <td>NaN</td>\n",
       "      <td>NaN</td>\n",
       "      <td>NaN</td>\n",
       "      <td>NaN</td>\n",
       "    </tr>\n",
       "    <tr>\n",
       "      <th>5</th>\n",
       "      <td>174DK3RAFTMB</td>\n",
       "      <td>2017-12-22 01:00:00</td>\n",
       "      <td>cms</td>\n",
       "      <td>P06636710Y61826</td>\n",
       "      <td>0.0</td>\n",
       "      <td>0.0</td>\n",
       "      <td>10392.0</td>\n",
       "      <td>3.0</td>\n",
       "      <td>0.0</td>\n",
       "      <td>0.0</td>\n",
       "      <td>...</td>\n",
       "      <td>0.0</td>\n",
       "      <td>0.0</td>\n",
       "      <td>0.0</td>\n",
       "      <td>NaN</td>\n",
       "      <td>NaN</td>\n",
       "      <td>NaN</td>\n",
       "      <td>NaN</td>\n",
       "      <td>NaN</td>\n",
       "      <td>NaN</td>\n",
       "      <td>NaN</td>\n",
       "    </tr>\n",
       "    <tr>\n",
       "      <th>6</th>\n",
       "      <td>174DK3RAFTMB</td>\n",
       "      <td>2017-12-23 01:00:00</td>\n",
       "      <td>cms</td>\n",
       "      <td>P06636710Y61826</td>\n",
       "      <td>0.0</td>\n",
       "      <td>0.0</td>\n",
       "      <td>10392.0</td>\n",
       "      <td>3.0</td>\n",
       "      <td>0.0</td>\n",
       "      <td>0.0</td>\n",
       "      <td>...</td>\n",
       "      <td>0.0</td>\n",
       "      <td>0.0</td>\n",
       "      <td>0.0</td>\n",
       "      <td>NaN</td>\n",
       "      <td>NaN</td>\n",
       "      <td>NaN</td>\n",
       "      <td>NaN</td>\n",
       "      <td>NaN</td>\n",
       "      <td>NaN</td>\n",
       "      <td>NaN</td>\n",
       "    </tr>\n",
       "    <tr>\n",
       "      <th>7</th>\n",
       "      <td>174DK3RAFTMB</td>\n",
       "      <td>2017-12-24 01:00:00</td>\n",
       "      <td>cms</td>\n",
       "      <td>P06636710Y61826</td>\n",
       "      <td>0.0</td>\n",
       "      <td>0.0</td>\n",
       "      <td>10392.0</td>\n",
       "      <td>3.0</td>\n",
       "      <td>0.0</td>\n",
       "      <td>0.0</td>\n",
       "      <td>...</td>\n",
       "      <td>0.0</td>\n",
       "      <td>0.0</td>\n",
       "      <td>0.0</td>\n",
       "      <td>NaN</td>\n",
       "      <td>NaN</td>\n",
       "      <td>NaN</td>\n",
       "      <td>NaN</td>\n",
       "      <td>NaN</td>\n",
       "      <td>NaN</td>\n",
       "      <td>NaN</td>\n",
       "    </tr>\n",
       "    <tr>\n",
       "      <th>8</th>\n",
       "      <td>174DK3RAFTMB</td>\n",
       "      <td>2017-12-25 01:00:00</td>\n",
       "      <td>cms</td>\n",
       "      <td>P06636710Y61826</td>\n",
       "      <td>0.0</td>\n",
       "      <td>0.0</td>\n",
       "      <td>10392.0</td>\n",
       "      <td>3.0</td>\n",
       "      <td>0.0</td>\n",
       "      <td>0.0</td>\n",
       "      <td>...</td>\n",
       "      <td>0.0</td>\n",
       "      <td>0.0</td>\n",
       "      <td>0.0</td>\n",
       "      <td>NaN</td>\n",
       "      <td>NaN</td>\n",
       "      <td>NaN</td>\n",
       "      <td>NaN</td>\n",
       "      <td>NaN</td>\n",
       "      <td>NaN</td>\n",
       "      <td>NaN</td>\n",
       "    </tr>\n",
       "    <tr>\n",
       "      <th>9</th>\n",
       "      <td>174DK3RAFTMB</td>\n",
       "      <td>2017-12-26 01:00:00</td>\n",
       "      <td>cms</td>\n",
       "      <td>P06636710Y61826</td>\n",
       "      <td>0.0</td>\n",
       "      <td>0.0</td>\n",
       "      <td>10392.0</td>\n",
       "      <td>3.0</td>\n",
       "      <td>0.0</td>\n",
       "      <td>0.0</td>\n",
       "      <td>...</td>\n",
       "      <td>0.0</td>\n",
       "      <td>0.0</td>\n",
       "      <td>0.0</td>\n",
       "      <td>NaN</td>\n",
       "      <td>NaN</td>\n",
       "      <td>NaN</td>\n",
       "      <td>NaN</td>\n",
       "      <td>NaN</td>\n",
       "      <td>NaN</td>\n",
       "      <td>NaN</td>\n",
       "    </tr>\n",
       "  </tbody>\n",
       "</table>\n",
       "<p>10 rows × 28 columns</p>\n",
       "</div>"
      ],
      "text/plain": [
       "         Serial                date  exp             host  smart1  smart2  \\\n",
       "0  174DK3RAFTMB 2017-12-17 01:00:00  cms  P06636710Y61826     0.0     0.0   \n",
       "1  174DK3RAFTMB 2017-12-18 01:00:00  cms  P06636710Y61826     0.0     0.0   \n",
       "2  174DK3RAFTMB 2017-12-19 01:00:00  cms  P06636710Y61826     0.0     0.0   \n",
       "3  174DK3RAFTMB 2017-12-20 01:00:00  cms  P06636710Y61826     0.0     0.0   \n",
       "4  174DK3RAFTMB 2017-12-21 01:00:00  cms  P06636710Y61826     0.0     0.0   \n",
       "5  174DK3RAFTMB 2017-12-22 01:00:00  cms  P06636710Y61826     0.0     0.0   \n",
       "6  174DK3RAFTMB 2017-12-23 01:00:00  cms  P06636710Y61826     0.0     0.0   \n",
       "7  174DK3RAFTMB 2017-12-24 01:00:00  cms  P06636710Y61826     0.0     0.0   \n",
       "8  174DK3RAFTMB 2017-12-25 01:00:00  cms  P06636710Y61826     0.0     0.0   \n",
       "9  174DK3RAFTMB 2017-12-26 01:00:00  cms  P06636710Y61826     0.0     0.0   \n",
       "\n",
       "    smart3  smart4  smart5  smart7   ...    smart197  smart198  smart199  \\\n",
       "0  10392.0     3.0     0.0     0.0   ...         0.0       0.0       0.0   \n",
       "1  10392.0     3.0     0.0     0.0   ...         0.0       0.0       0.0   \n",
       "2  10392.0     3.0     0.0     0.0   ...         0.0       0.0       0.0   \n",
       "3  10392.0     3.0     0.0     0.0   ...         0.0       0.0       0.0   \n",
       "4  10392.0     3.0     0.0     0.0   ...         0.0       0.0       0.0   \n",
       "5  10392.0     3.0     0.0     0.0   ...         0.0       0.0       0.0   \n",
       "6  10392.0     3.0     0.0     0.0   ...         0.0       0.0       0.0   \n",
       "7  10392.0     3.0     0.0     0.0   ...         0.0       0.0       0.0   \n",
       "8  10392.0     3.0     0.0     0.0   ...         0.0       0.0       0.0   \n",
       "9  10392.0     3.0     0.0     0.0   ...         0.0       0.0       0.0   \n",
       "\n",
       "   Version  Device  Port  Model  Smart  Size  Vendor  \n",
       "0      NaN     NaN   NaN    NaN    NaN   NaN     NaN  \n",
       "1      NaN     NaN   NaN    NaN    NaN   NaN     NaN  \n",
       "2      NaN     NaN   NaN    NaN    NaN   NaN     NaN  \n",
       "3      NaN     NaN   NaN    NaN    NaN   NaN     NaN  \n",
       "4      NaN     NaN   NaN    NaN    NaN   NaN     NaN  \n",
       "5      NaN     NaN   NaN    NaN    NaN   NaN     NaN  \n",
       "6      NaN     NaN   NaN    NaN    NaN   NaN     NaN  \n",
       "7      NaN     NaN   NaN    NaN    NaN   NaN     NaN  \n",
       "8      NaN     NaN   NaN    NaN    NaN   NaN     NaN  \n",
       "9      NaN     NaN   NaN    NaN    NaN   NaN     NaN  \n",
       "\n",
       "[10 rows x 28 columns]"
      ]
     },
     "execution_count": 60,
     "metadata": {},
     "output_type": "execute_result"
    }
   ],
   "source": [
    "# let's look on few data rows\n",
    "data.head(10)"
   ]
  },
  {
   "cell_type": "markdown",
   "metadata": {},
   "source": [
    "- Basic look on data columns:"
   ]
  },
  {
   "cell_type": "code",
   "execution_count": 64,
   "metadata": {},
   "outputs": [
    {
     "name": "stdout",
     "output_type": "stream",
     "text": [
      "Number of unique hosts: 1335\n",
      "Number of unique serials: 45869\n",
      "Number of unique experiments: 6\n"
     ]
    }
   ],
   "source": [
    "# lets print out a few key numbers\n",
    "print(f'Number of unique hosts: {len(data.host.unique())}')\n",
    "print(f'Number of unique serials: {len(data.Serial.unique())}')\n",
    "print(f'Number of unique experiments: {len(data.exp.unique())}')"
   ]
  },
  {
   "cell_type": "code",
   "execution_count": 65,
   "metadata": {},
   "outputs": [],
   "source": [
    "# let's remove duplicate disks (get unique serials) for a few analysis\n",
    "distinct_data = data.drop_duplicates('Serial')"
   ]
  },
  {
   "cell_type": "code",
   "execution_count": 66,
   "metadata": {},
   "outputs": [
    {
     "name": "stdout",
     "output_type": "stream",
     "text": [
      "Amount of disks per vendor:\n",
      "Zürich        7203\n",
      "Vaud          2323\n",
      "Bern          2252\n",
      "St. Gallen    2043\n",
      "Aargau        1850\n",
      "Geneva         318\n",
      "Luzern         121\n",
      "Ticino          71\n",
      "Name: Vendor, dtype: int64\n"
     ]
    }
   ],
   "source": [
    "print(f'Amount of disks per vendor:\\n{distinct_data.Vendor.value_counts()}')"
   ]
  },
  {
   "cell_type": "code",
   "execution_count": 72,
   "metadata": {},
   "outputs": [
    {
     "name": "stdout",
     "output_type": "stream",
     "text": [
      "Various disk sizes:\n",
      "3815447.0    2111\n",
      "2861588.0    1617\n",
      "1907729.0     621\n",
      "476940.0      338\n",
      "915715.0      333\n",
      "763097.0       56\n",
      "5723166.0      48\n",
      "239429.0        1\n",
      "Name: Size, dtype: int64\n"
     ]
    }
   ],
   "source": [
    "print('Various disk sizes:\\n{0}'.format(distinct_data.Size.value_counts()))"
   ]
  },
  {
   "cell_type": "code",
   "execution_count": 69,
   "metadata": {},
   "outputs": [
    {
     "name": "stdout",
     "output_type": "stream",
     "text": [
      "Various disk sizes:\n",
      "3815447.0    2111\n",
      "2861588.0    1617\n",
      "1907729.0     621\n",
      "476940.0      338\n",
      "915715.0      333\n",
      "763097.0       56\n",
      "5723166.0      48\n",
      "239429.0        1\n",
      "Name: Size, dtype: int64\n"
     ]
    }
   ],
   "source": [
    "print(f'Various disk sizes:\\n{distinct_data.Size.value_counts()}')"
   ]
  },
  {
   "cell_type": "markdown",
   "metadata": {},
   "source": [
    "- You can read about CERN experiments [here](https://home.cern/about/experiments)"
   ]
  },
  {
   "cell_type": "code",
   "execution_count": 73,
   "metadata": {},
   "outputs": [
    {
     "name": "stdout",
     "output_type": "stream",
     "text": [
      "Names of experiments are:\n",
      "['cms' 'alice' 'lhcb' 'atlas' 'public' 'user']\n"
     ]
    }
   ],
   "source": [
    "print(f'Names of experiments are:\\n{distinct_data.exp.unique()}')"
   ]
  },
  {
   "cell_type": "code",
   "execution_count": 74,
   "metadata": {},
   "outputs": [
    {
     "name": "stdout",
     "output_type": "stream",
     "text": [
      "CMS   : 2016-09-19 02:00:00 - 2018-06-01 02:00:00\n",
      "ALICE : 2016-11-01 01:00:00 - 2018-06-01 02:00:00\n",
      "LHCB  : 2016-10-31 01:00:00 - 2018-04-16 02:00:00\n",
      "ATLAS : 2016-11-02 01:00:00 - 2018-06-01 02:00:00\n",
      "USER  : 2016-11-02 01:00:00 - 2018-06-01 02:00:00\n",
      "PUBLIC: 2016-11-02 01:00:00 - 2018-06-01 02:00:00\n"
     ]
    }
   ],
   "source": [
    "# let's print date ranges of experiments using full date from our dataset\n",
    "print(f'CMS   : {data[data.exp==\"cms\"].date.min()} - {data[data.exp==\"cms\"].date.max()}')\n",
    "print(f'ALICE : {data[data.exp==\"alice\"].date.min()} - {data[data.exp==\"alice\"].date.max()}')\n",
    "print(f'LHCB  : {data[data.exp==\"lhcb\"].date.min()} - {data[data.exp==\"lhcb\"].date.max()}')\n",
    "print(f'ATLAS : {data[data.exp==\"atlas\"].date.min()} - {data[data.exp==\"atlas\"].date.max()}')\n",
    "print(f'USER  : {data[data.exp==\"user\"].date.min()} - {data[data.exp==\"user\"].date.max()}')\n",
    "print(f'PUBLIC: {data[data.exp==\"public\"].date.min()} - {data[data.exp==\"public\"].date.max()}')"
   ]
  },
  {
   "cell_type": "code",
   "execution_count": 18,
   "metadata": {},
   "outputs": [
    {
     "name": "stdout",
     "output_type": "stream",
     "text": [
      "Amount of disks per experiment:\n",
      "cms       12314\n",
      "atlas     12115\n",
      "alice     10228\n",
      "public     6326\n",
      "lhcb       3695\n",
      "user       1191\n",
      "Name: exp, dtype: int64\n"
     ]
    }
   ],
   "source": [
    "# we can also print number of disks used per experiment\n",
    "print(f'Amount of disks per experiment:\\n{distinct_data.exp.value_counts()}')"
   ]
  },
  {
   "cell_type": "code",
   "execution_count": 19,
   "metadata": {},
   "outputs": [
    {
     "name": "stdout",
     "output_type": "stream",
     "text": [
      "Amount of different Versions:\n",
      "CN02        2071\n",
      "MEAOAA10    1571\n",
      "01.01D02     263\n",
      "N2010101     261\n",
      "MK7OAAK0     229\n",
      "01.01S02     197\n",
      "MF6OAA70     121\n",
      "SN02         111\n",
      "GXM1003Q      71\n",
      "G2010140      56\n",
      "CN03          40\n",
      "MEAOAA01      24\n",
      "DN02          24\n",
      "02.03B03      23\n",
      "MEAOA800      13\n",
      "MKAOAA10       9\n",
      "3BKS           4\n",
      "04.01G01       3\n",
      "MK7OAA10       2\n",
      "SN03           2\n",
      "01.01S03       1\n",
      "MK7OA800       1\n",
      "01.01S01       1\n",
      "N2010112       1\n",
      "ME7OA800       1\n",
      "01.01K02       1\n",
      "Name: Version, dtype: int64\n"
     ]
    }
   ],
   "source": [
    "print(f'Amount of different Versions:\\n{distinct_data.Version.value_counts()}')"
   ]
  },
  {
   "cell_type": "code",
   "execution_count": 20,
   "metadata": {},
   "outputs": [
    {
     "name": "stdout",
     "output_type": "stream",
     "text": [
      "Amount of different Models:\n",
      "ST4000NC001-1FS1      2111\n",
      "HUA5C303              1608\n",
      "WD2003FYYS-02W0B1      262\n",
      "SSDSC2BB960G7          262\n",
      "HUA723020ALA640        232\n",
      "HUS724020ALA640        121\n",
      "WD5003ABYX-01WERA0     118\n",
      "ST500NM0011            113\n",
      "WD5003ABYX-01WERA1      77\n",
      "MZ7KM960HAHP-00005      71\n",
      "SSDSC2BB800G6           56\n",
      "80.00A80                24\n",
      "ST6000DM001-1YW1        24\n",
      "WD5002ABYS-02B1B0       23\n",
      "HUA72303                 9\n",
      "ST3500630NS              4\n",
      "WD2002FYPS-02W3B0        3\n",
      "WD5003ABYX-36WERA0       2\n",
      "WD2000FYYZ-01UL1B1       1\n",
      "WD2503ABYX-01WERA1       1\n",
      "WD2003FYYS-02W0B0        1\n",
      "WD5003ABYZ-011FA0        1\n",
      "HUA5C3020ALA640          1\n",
      "Name: Model, dtype: int64\n"
     ]
    }
   ],
   "source": [
    "print(f'Amount of different Models:\\n{distinct_data.Model.value_counts()}')"
   ]
  },
  {
   "cell_type": "code",
   "execution_count": 21,
   "metadata": {},
   "outputs": [
    {
     "name": "stdout",
     "output_type": "stream",
     "text": [
      "Amount of different Models:\n",
      "sdb     787\n",
      "sdc     301\n",
      "sdax    262\n",
      "sda     153\n",
      "sdh     150\n",
      "sdz     150\n",
      "sdo     149\n",
      "sdr     149\n",
      "sdl     149\n",
      "sdi     149\n",
      "sde     149\n",
      "sdd     149\n",
      "sdq     149\n",
      "sdk     149\n",
      "sdp     149\n",
      "sdg     149\n",
      "sdm     149\n",
      "sdf     149\n",
      "sdj     148\n",
      "sdx     148\n",
      "sdw     148\n",
      "sds     148\n",
      "sdt     148\n",
      "sdn     148\n",
      "sdu     147\n",
      "sdaa    146\n",
      "sdv     143\n",
      "sdy      12\n",
      "sdab     12\n",
      "sdak      9\n",
      "sdag      9\n",
      "sdar      9\n",
      "sdaq      9\n",
      "sdah      9\n",
      "sdac      9\n",
      "sdal      9\n",
      "sdaj      9\n",
      "sdaf      9\n",
      "sdas      9\n",
      "sdae      9\n",
      "sdad      9\n",
      "sdam      9\n",
      "sdao      9\n",
      "sdau      9\n",
      "sdat      9\n",
      "sdai      9\n",
      "sdan      9\n",
      "sdap      9\n",
      "sdav      9\n",
      "sdaw      5\n",
      "sday      1\n",
      "Name: Device, dtype: int64\n"
     ]
    }
   ],
   "source": [
    "print(f'Amount of different Models:\\n{distinct_data.Device.value_counts()}')"
   ]
  },
  {
   "cell_type": "code",
   "execution_count": 22,
   "metadata": {},
   "outputs": [
    {
     "name": "stdout",
     "output_type": "stream",
     "text": [
      "Amount of different Ports:\n",
      "0.0     1139\n",
      "1.0      486\n",
      "2.0      171\n",
      "19.0     149\n",
      "10.0     149\n",
      "3.0      149\n",
      "5.0      149\n",
      "12.0     149\n",
      "6.0      149\n",
      "21.0     149\n",
      "17.0     149\n",
      "14.0     149\n",
      "4.0      149\n",
      "20.0     149\n",
      "16.0     149\n",
      "7.0      149\n",
      "15.0     149\n",
      "8.0      149\n",
      "11.0     148\n",
      "13.0     148\n",
      "18.0     148\n",
      "22.0     147\n",
      "23.0     145\n",
      "9.0      142\n",
      "25.0       9\n",
      "44.0       9\n",
      "27.0       9\n",
      "47.0       9\n",
      "33.0       9\n",
      "43.0       9\n",
      "32.0       9\n",
      "46.0       9\n",
      "40.0       9\n",
      "29.0       9\n",
      "36.0       9\n",
      "37.0       9\n",
      "26.0       9\n",
      "24.0       9\n",
      "41.0       9\n",
      "34.0       9\n",
      "30.0       9\n",
      "45.0       9\n",
      "39.0       9\n",
      "28.0       9\n",
      "42.0       9\n",
      "35.0       9\n",
      "38.0       9\n",
      "31.0       9\n",
      "Name: Port, dtype: int64\n"
     ]
    }
   ],
   "source": [
    "print(f'Amount of different Ports:\\n{distinct_data.Port.value_counts()}')"
   ]
  },
  {
   "cell_type": "markdown",
   "metadata": {},
   "source": [
    "## Checking for missing data"
   ]
  },
  {
   "cell_type": "code",
   "execution_count": 23,
   "metadata": {},
   "outputs": [],
   "source": [
    "# let's find all missing data\n",
    "mising_df = data.isnull().sum()/len(data)"
   ]
  },
  {
   "cell_type": "code",
   "execution_count": 24,
   "metadata": {},
   "outputs": [
    {
     "data": {
      "image/png": "[encoded data removed]",
      "text/plain": [
       "<Figure size 720x360 with 1 Axes>"
      ]
     },
     "metadata": {},
     "output_type": "display_data"
    }
   ],
   "source": [
    "# and plot them \n",
    "plt.figure(figsize=(10,5))\n",
    "mising_df.plot(kind='bar')\n",
    "plt.title('Percentage of missing values in the Data per feature')\n",
    "plt.show()"
   ]
  },
  {
   "cell_type": "code",
   "execution_count": 25,
   "metadata": {},
   "outputs": [],
   "source": [
    "plot_data_cms   = data[data.exp=='cms'][['Serial','date']].groupby('date').Serial.nunique()\n",
    "plot_data_atlas = data[data.exp=='atlas'][['Serial','date']].groupby('date').Serial.nunique()\n",
    "plot_data_lhcb  = data[data.exp=='lhcb'][['Serial','date']].groupby('date').Serial.nunique()\n",
    "plot_data_alice = data[data.exp=='alice'][['Serial','date']].groupby('date').Serial.nunique()"
   ]
  },
  {
   "cell_type": "code",
   "execution_count": 26,
   "metadata": {},
   "outputs": [
    {
     "data": {
      "image/png": "[encoded data removed]",
      "text/plain": [
       "<Figure size 1080x504 with 1 Axes>"
      ]
     },
     "metadata": {},
     "output_type": "display_data"
    }
   ],
   "source": [
    "plt.figure(figsize=(15,7))\n",
    "plt.scatter(plot_data_cms.index, plot_data_cms,     s=3, c='r', label='cms')\n",
    "plt.scatter(plot_data_atlas.index, plot_data_atlas, s=3, c='g', label='atlas')\n",
    "plt.scatter(plot_data_lhcb.index, plot_data_lhcb,   s=3, c='b', label='lhcb')\n",
    "plt.scatter(plot_data_alice.index, plot_data_alice, s=3, c='m', label='alice')\n",
    "plt.xlabel(\"date\")\n",
    "plt.ylabel(\"number of disks\")\n",
    "plt.title('Timeline of number of disks used per experiment')\n",
    "plt.legend(loc='best')\n",
    "plt.show()"
   ]
  },
  {
   "cell_type": "markdown",
   "metadata": {},
   "source": [
    "## Let's find failures (The Simples Method)"
   ]
  },
  {
   "cell_type": "markdown",
   "metadata": {},
   "source": [
    "**Failure definition from CERN colleagues**\n",
    "\n",
    "* A disk considered as **'suspect' of failure**:\n",
    "    * when it disappeared from the daily smart data collection\n",
    "    * while the other disks in the machine continue to report\n",
    "    "
   ]
  },
  {
   "cell_type": "code",
   "execution_count": 75,
   "metadata": {},
   "outputs": [],
   "source": [
    "# let's identify amount of serial per day for each host\n",
    "host_date_number = data.groupby(['host', 'date'])['Serial'].count()"
   ]
  },
  {
   "cell_type": "code",
   "execution_count": 76,
   "metadata": {},
   "outputs": [
    {
     "data": {
      "text/plain": [
       "host         date               \n",
       "LXFSRD38C01  2016-11-01 01:00:00    26\n",
       "             2016-11-02 01:00:00    26\n",
       "             2016-11-03 01:00:00    26\n",
       "             2016-11-04 01:00:00    26\n",
       "             2016-11-05 01:00:00    26\n",
       "             2016-11-06 01:00:00    26\n",
       "             2016-11-07 01:00:00    26\n",
       "             2016-11-08 01:00:00    26\n",
       "             2016-11-09 01:00:00    26\n",
       "             2016-11-10 01:00:00    26\n",
       "Name: Serial, dtype: int64"
      ]
     },
     "execution_count": 76,
     "metadata": {},
     "output_type": "execute_result"
    }
   ],
   "source": [
    "# for each host we know amount of serial per day\n",
    "host_date_number.head(10)"
   ]
  },
  {
   "cell_type": "code",
   "execution_count": 77,
   "metadata": {},
   "outputs": [
    {
     "name": "stdout",
     "output_type": "stream",
     "text": [
      "Amount of hosts with possibly failured hosts: 189\n"
     ]
    }
   ],
   "source": [
    "# calculate std for timeseries mentioned above\n",
    "get_std_for_ts = host_date_number.groupby('host').std()\n",
    "\n",
    "# let's grab all host with non-constant std, which means that they have some changes in amount of disks during period of usage\n",
    "# these are the host id's where a disk failure might have occured\n",
    "possibly_bad_hosts = get_std_for_ts[get_std_for_ts!=0]\n",
    "print(f'Amount of hosts with possibly failured hosts: {len(possibly_bad_hosts)}')"
   ]
  },
  {
   "cell_type": "code",
   "execution_count": 79,
   "metadata": {},
   "outputs": [
    {
     "name": "stdout",
     "output_type": "stream",
     "text": [
      "host\n",
      "LXFSRD46C01    11.545710\n",
      "LXFSRD50C01     1.392173\n",
      "LXFSRD56C01     0.478955\n",
      "LXFSRD56C03     0.070888\n",
      "LXFSRD62C02     0.476815\n",
      "LXFSRD64C01     0.576426\n",
      "LXFSRD66C01    11.064639\n",
      "LXFSRE02B08     0.394654\n",
      "LXFSRE05A07     0.401751\n",
      "LXFSRE06B02     0.496489\n",
      "Name: Serial, dtype: float64\n"
     ]
    }
   ],
   "source": [
    "print(possibly_bad_hosts[:10])"
   ]
  },
  {
   "cell_type": "code",
   "execution_count": 31,
   "metadata": {},
   "outputs": [
    {
     "data": {
      "image/png": "[encoded data removed]",
      "text/plain": [
       "<Figure size 720x360 with 1 Axes>"
      ]
     },
     "metadata": {},
     "output_type": "display_data"
    },
    {
     "data": {
      "image/png": "[encoded data removed]",
      "text/plain": [
       "<Figure size 720x360 with 1 Axes>"
      ]
     },
     "metadata": {},
     "output_type": "display_data"
    }
   ],
   "source": [
    "# let's visualize few hosts\n",
    "def plot_disk_per_host(host_name):\n",
    "    host = data[data.host == host_name]\n",
    "    plt.figure(figsize=(10,5))\n",
    "    plt.plot(host.groupby('date')['Serial'].count())\n",
    "    plt.title('Disk Lifecycle for host '+host_name)\n",
    "    plt.ylabel('number of disks')\n",
    "    plt.show()\n",
    "\n",
    "plot_disk_per_host('LXFSRD66C01')\n",
    "plot_disk_per_host('P06636710X05876')"
   ]
  },
  {
   "cell_type": "code",
   "execution_count": 32,
   "metadata": {},
   "outputs": [
    {
     "data": {
      "text/html": [
       "<div>\n",
       "<style scoped>\n",
       "    .dataframe tbody tr th:only-of-type {\n",
       "        vertical-align: middle;\n",
       "    }\n",
       "\n",
       "    .dataframe tbody tr th {\n",
       "        vertical-align: top;\n",
       "    }\n",
       "\n",
       "    .dataframe thead th {\n",
       "        text-align: right;\n",
       "    }\n",
       "</style>\n",
       "<table border=\"1\" class=\"dataframe\">\n",
       "  <thead>\n",
       "    <tr style=\"text-align: right;\">\n",
       "      <th></th>\n",
       "      <th>host</th>\n",
       "      <th>date</th>\n",
       "      <th>Serial</th>\n",
       "    </tr>\n",
       "  </thead>\n",
       "  <tbody>\n",
       "    <tr>\n",
       "      <th>0</th>\n",
       "      <td>LXFSRD46C01</td>\n",
       "      <td>2016-10-31 01:00:00</td>\n",
       "      <td>[WD-WMAYP2104752, WD-WMAYP2105314]</td>\n",
       "    </tr>\n",
       "    <tr>\n",
       "      <th>1</th>\n",
       "      <td>LXFSRD46C01</td>\n",
       "      <td>2016-11-01 01:00:00</td>\n",
       "      <td>[WD-WMAYP2104752, WD-WMAYP2105314]</td>\n",
       "    </tr>\n",
       "    <tr>\n",
       "      <th>2</th>\n",
       "      <td>LXFSRD46C01</td>\n",
       "      <td>2016-11-02 01:00:00</td>\n",
       "      <td>[WD-WMAYP2104752, WD-WMAYP2105314]</td>\n",
       "    </tr>\n",
       "    <tr>\n",
       "      <th>3</th>\n",
       "      <td>LXFSRD46C01</td>\n",
       "      <td>2016-11-03 01:00:00</td>\n",
       "      <td>[WD-WMAYP2104752, WD-WMAYP2105314]</td>\n",
       "    </tr>\n",
       "    <tr>\n",
       "      <th>4</th>\n",
       "      <td>LXFSRD46C01</td>\n",
       "      <td>2016-11-04 01:00:00</td>\n",
       "      <td>[WD-WMAYP2104752, WD-WMAYP2105314]</td>\n",
       "    </tr>\n",
       "  </tbody>\n",
       "</table>\n",
       "</div>"
      ],
      "text/plain": [
       "          host                date                              Serial\n",
       "0  LXFSRD46C01 2016-10-31 01:00:00  [WD-WMAYP2104752, WD-WMAYP2105314]\n",
       "1  LXFSRD46C01 2016-11-01 01:00:00  [WD-WMAYP2104752, WD-WMAYP2105314]\n",
       "2  LXFSRD46C01 2016-11-02 01:00:00  [WD-WMAYP2104752, WD-WMAYP2105314]\n",
       "3  LXFSRD46C01 2016-11-03 01:00:00  [WD-WMAYP2104752, WD-WMAYP2105314]\n",
       "4  LXFSRD46C01 2016-11-04 01:00:00  [WD-WMAYP2104752, WD-WMAYP2105314]"
      ]
     },
     "execution_count": 32,
     "metadata": {},
     "output_type": "execute_result"
    }
   ],
   "source": [
    "# let's take subset for only possibly failed hosts\n",
    "possibly_bad_hosts_df = data[['host','Serial','date']][data.host.isin(possibly_bad_hosts.index)].groupby(['host','date'])['Serial'].apply(list).reset_index() \n",
    "# now we get a dataframe where the number of unique serials is collected in a list for every host & date\n",
    "possibly_bad_hosts_df.head()"
   ]
  },
  {
   "cell_type": "code",
   "execution_count": 80,
   "metadata": {},
   "outputs": [],
   "source": [
    "# let's find our bad drives (you can and should improve this method)\n",
    "bad_serials = []\n",
    "\n",
    "# loop over every host with possibility of a hard disk failure \n",
    "for host in possibly_bad_hosts.index:\n",
    "    \n",
    "    current_host_df = possibly_bad_hosts_df[possibly_bad_hosts_df.host == host]\n",
    "    prev_set = set([])\n",
    "    \n",
    "    # if the number of hard disk reporting for a given date is one less than the day before we label it as a failure\n",
    "    for idx, row in current_host_df.iterrows():\n",
    "        current_set = set(row[2])\n",
    "        difference  = prev_set.difference(current_set)\n",
    "        if  prev_set.issubset(current_set) or len(current_set) >= len(prev_set):\n",
    "            prev_set = current_set\n",
    "            continue\n",
    "        elif len(difference) == 1:\n",
    "            # get failed serial \n",
    "            bad_serials.append(difference.pop())\n",
    "            prev_set = current_set"
   ]
  },
  {
   "cell_type": "code",
   "execution_count": 81,
   "metadata": {},
   "outputs": [
    {
     "name": "stdout",
     "output_type": "stream",
     "text": [
      "Amount of failured disks: 161\n"
     ]
    }
   ],
   "source": [
    "print(f'Amount of failured disks: {len(bad_serials)}')"
   ]
  },
  {
   "cell_type": "code",
   "execution_count": 82,
   "metadata": {},
   "outputs": [
    {
     "name": "stdout",
     "output_type": "stream",
     "text": [
      "First ten bad disks:\n",
      "['17NRK0WFFTMB' '272AKDSFFTMB' 'K1HAGNAB' 'K1HDDSUD' 'K1HDG0AD' 'K1HE3YMD'\n",
      " 'K1HE5MVD' 'NAHV6A8X' 'NAHV72LX' 'NAHVHVKY']\n"
     ]
    }
   ],
   "source": [
    "failed_disks = data[data.Serial.isin(bad_serials)]\n",
    "print(f'First ten bad disks:\\n{failed_disks.Serial.unique()[:10]}')"
   ]
  },
  {
   "cell_type": "code",
   "execution_count": 83,
   "metadata": {},
   "outputs": [
    {
     "data": {
      "image/png": "[encoded data removed]",
      "text/plain": [
       "<Figure size 720x360 with 1 Axes>"
      ]
     },
     "metadata": {},
     "output_type": "display_data"
    }
   ],
   "source": [
    "# let's see how smart 194 behaves before a crash\n",
    "plt.figure(figsize=(10,5))\n",
    "failed_disks[failed_disks.Serial == '17NRK0WFFTMB'].set_index('date').smart194.plot()\n",
    "plt.show()"
   ]
  },
  {
   "cell_type": "code",
   "execution_count": 37,
   "metadata": {},
   "outputs": [
    {
     "data": {
      "image/png": "[encoded data removed]",
      "text/plain": [
       "<Figure size 720x360 with 1 Axes>"
      ]
     },
     "metadata": {},
     "output_type": "display_data"
    }
   ],
   "source": [
    "#Smart 196 before the crash\n",
    "plt.figure(figsize=(10,5))\n",
    "failed_disks[failed_disks.Serial == '17NRK0WFFTMB'].set_index('date').smart196.plot()\n",
    "plt.show()"
   ]
  },
  {
   "cell_type": "code",
   "execution_count": 38,
   "metadata": {},
   "outputs": [
    {
     "data": {
      "image/png": "[encoded data removed]",
      "text/plain": [
       "<Figure size 720x360 with 1 Axes>"
      ]
     },
     "metadata": {},
     "output_type": "display_data"
    }
   ],
   "source": [
    "# let's see how smart 194 behaves before another crash\n",
    "plt.figure(figsize=(10,5))\n",
    "failed_disks[failed_disks.Serial == 'K1HDG0AD'].set_index('date').smart194.plot()\n",
    "plt.show()"
   ]
  },
  {
   "cell_type": "markdown",
   "metadata": {},
   "source": [
    "## Baseline"
   ]
  },
  {
   "cell_type": "markdown",
   "metadata": {},
   "source": [
    "Here we show you a really simple and basic model to help you get started"
   ]
  },
  {
   "cell_type": "code",
   "execution_count": 84,
   "metadata": {},
   "outputs": [],
   "source": [
    "X_bad = []\n",
    "\n",
    "for bad_serial in bad_serials:\n",
    "    smart_194 = failed_disks[failed_disks.Serial == bad_serial][['smart194']].values\n",
    "    \n",
    "    # we will take last 30 days from time serie\n",
    "    if len(smart_194) > 30:\n",
    "        X_bad.append(smart_194[-30:].ravel())\n",
    "\n",
    "X_bad = np.array(X_bad)        \n",
    "X_bad = X_bad[~np.isnan(X_bad).any(axis=1)]"
   ]
  },
  {
   "cell_type": "code",
   "execution_count": 85,
   "metadata": {},
   "outputs": [],
   "source": [
    "X_good = []\n",
    "\n",
    "good_serials = data.Serial.sample(n=500).values\n",
    "good_serials = [serial for serial in good_serials if serial not in bad_serials]\n",
    "good_disks   = data[data.Serial.isin(good_serials)] \n",
    "\n",
    "for good_serial in good_serials:\n",
    "    smart_194 = good_disks[good_disks.Serial == good_serial][['smart194']].values\n",
    "    \n",
    "    if len(smart_194) > 30:\n",
    "        X_good.append(smart_194[-30:].ravel())\n",
    "\n",
    "X_good = np.array(X_good)        \n",
    "X_good = X_good[~np.isnan(X_good).any(axis=1)]"
   ]
  },
  {
   "cell_type": "code",
   "execution_count": 86,
   "metadata": {},
   "outputs": [],
   "source": [
    "X = np.concatenate([X_good, X_bad], axis=0)\n",
    "y = np.concatenate([np.zeros(len(X_good)), np.ones(len(X_bad))], axis=0)"
   ]
  },
  {
   "cell_type": "code",
   "execution_count": 87,
   "metadata": {},
   "outputs": [
    {
     "name": "stdout",
     "output_type": "stream",
     "text": [
      "shape for feature matrix X is: (643, 30)\n",
      "shape for label   column y is: (643,)\n"
     ]
    }
   ],
   "source": [
    "print(f'shape for feature matrix X is: {X.shape}')\n",
    "print(f'shape for label   column y is: {y.shape}')"
   ]
  },
  {
   "cell_type": "code",
   "execution_count": 88,
   "metadata": {},
   "outputs": [
    {
     "name": "stdout",
     "output_type": "stream",
     "text": [
      "shape for feature matrix X_train is: (514, 30)\n",
      "shape for label   column y_train is: (514,)\n",
      "shape for feature matrix X_test is : (129, 30)\n",
      "shape for label   column y_test is : (129,)\n"
     ]
    }
   ],
   "source": [
    "# lets randomly split data for train and test\n",
    "from sklearn.model_selection import train_test_split\n",
    "\n",
    "X_train, X_test, y_train, y_test = train_test_split(X, y, test_size=0.2, shuffle=True, random_state=0)\n",
    "\n",
    "print(f'shape for feature matrix X_train is: {X_train.shape}')\n",
    "print(f'shape for label   column y_train is: {y_train.shape}')\n",
    "print(f'shape for feature matrix X_test is : {X_test.shape}')\n",
    "print(f'shape for label   column y_test is : {y_test.shape}')"
   ]
  },
  {
   "cell_type": "markdown",
   "metadata": {},
   "source": [
    " - We will use **Random Forest Classifier** for our toy baseline"
   ]
  },
  {
   "cell_type": "code",
   "execution_count": 89,
   "metadata": {},
   "outputs": [
    {
     "name": "stdout",
     "output_type": "stream",
     "text": [
      "Accuracy of model: 0.7906976744186046\n",
      "Precision of model: 0.5333333333333333\n",
      "Recall of model: 0.2857142857142857\n",
      "Roc of model: 0.6082036775106081\n"
     ]
    }
   ],
   "source": [
    "from sklearn.ensemble import RandomForestClassifier, AdaBoostClassifier, GradientBoostingClassifier\n",
    "from sklearn.tree import DecisionTreeClassifier, ExtraTreeClassifier\n",
    "from sklearn.metrics import accuracy_score, precision_score, recall_score, roc_auc_score\n",
    "\n",
    "# init the classifier\n",
    "rf_clf = RandomForestClassifier(random_state=2018)\n",
    "\n",
    "# fit data to the model\n",
    "rf_clf.fit(X_train, y_train)\n",
    "\n",
    "# predict result\n",
    "y_pred = rf_clf.predict(X_test)\n",
    "\n",
    "\n",
    "print(f'Accuracy of model: {accuracy_score(y_test, y_pred)}')\n",
    "print(f'Precision of model: {precision_score(y_test, y_pred)}')\n",
    "print(f'Recall of model: {recall_score(y_test, y_pred)}')\n",
    "print(f'Roc of model: {roc_auc_score(y_test, y_pred)}')\n",
    "# of course accuracy isnt a good metrics for judging this model\n",
    "# come up with a good one when you build your model"
   ]
  },
  {
   "cell_type": "code",
   "execution_count": 56,
   "metadata": {},
   "outputs": [
    {
     "name": "stdout",
     "output_type": "stream",
     "text": [
      "Average precision-recall score: 0.30\n"
     ]
    }
   ],
   "source": [
    "from sklearn.metrics import average_precision_score\n",
    "average_precision = average_precision_score(y_test, y_pred)\n",
    "\n",
    "print('Average precision-recall score: {0:0.2f}'.format(\n",
    "      average_precision))"
   ]
  },
  {
   "cell_type": "code",
   "execution_count": 57,
   "metadata": {},
   "outputs": [
    {
     "data": {
      "text/plain": [
       "Text(0.5,1,'2-class Precision-Recall curve: AP=0.30')"
      ]
     },
     "execution_count": 57,
     "metadata": {},
     "output_type": "execute_result"
    },
    {
     "data": {
      "image/png": "[encoded data removed]",
      "text/plain": [
       "<Figure size 432x288 with 1 Axes>"
      ]
     },
     "metadata": {},
     "output_type": "display_data"
    }
   ],
   "source": [
    "from sklearn.metrics import precision_recall_curve\n",
    "import matplotlib.pyplot as plt\n",
    "\n",
    "precision, recall, _ = precision_recall_curve(y_test, y_pred)\n",
    "\n",
    "plt.step(recall, precision, color='b', alpha=0.2,\n",
    "         where='post')\n",
    "plt.fill_between(recall, precision, step='post', alpha=0.2,\n",
    "                 color='b')\n",
    "\n",
    "plt.xlabel('Recall')\n",
    "plt.ylabel('Precision')\n",
    "plt.ylim([0.0, 1.05])\n",
    "plt.xlim([0.0, 1.0])\n",
    "plt.title('2-class Precision-Recall curve: AP={0:0.2f}'.format(\n",
    "          average_precision))"
   ]
  },
  {
   "cell_type": "markdown",
   "metadata": {},
   "source": [
    "## We wish you luck in Hackathon! \n",
    "\n",
    "Feel free to stay connected with us via LinkedIn/Github:\n",
    "- Vladimir Osin - [[LinkedIn]](https://www.linkedin.com/in/vosin/), [[Github]](https://github.com/osin-vladimir)\n",
    "- Ekhtiar Syed  - [[LinkedIn]](https://www.linkedin.com/in/ekhtiar/), [[Github]](https://github.com/ekhtiar)\n",
    "\n",
    "Our open educational initiative Open DSE - [[Github]](https://github.com/open-dse)\n",
    "\n",
    "\n",
    "<img src=\"https://avatars2.githubusercontent.com/u/38860425?s=200&v=4\"\n",
    " alt=\"Markdown Monster icon\"\n",
    "     style=\"float: left; margin-right: 10px;\" />\n"
   ]
  }
 ],
 "metadata": {
  "kernelspec": {
   "display_name": "Python 3",
   "language": "python",
   "name": "python3"
  },
  "language_info": {
   "codemirror_mode": {
    "name": "ipython",
    "version": 3
   },
   "file_extension": ".py",
   "mimetype": "text/x-python",
   "name": "python",
   "nbconvert_exporter": "python",
   "pygments_lexer": "ipython3",
   "version": "3.6.5"
  }
 },
 "nbformat": 4,
 "nbformat_minor": 2
}
